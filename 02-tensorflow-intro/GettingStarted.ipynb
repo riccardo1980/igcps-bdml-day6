{
 "cells": [
  {
   "cell_type": "markdown",
   "metadata": {
    "deletable": true,
    "editable": true
   },
   "source": [
    "# Getting started with TensorFlow\n",
    "\n",
    "In this notebook, you will play around with TensorFlow Python API."
   ]
  },
  {
   "cell_type": "code",
   "execution_count": null,
   "metadata": {
    "collapsed": false,
    "deletable": true,
    "editable": true,
    "hiddenCell": true
   },
   "outputs": [],
   "source": [
    "import tensorflow as tf\n",
    "import numpy as np"
   ]
  },
  {
   "cell_type": "markdown",
   "metadata": {
    "deletable": true,
    "editable": true
   },
   "source": [
    "## Adding two tensors\n",
    "First, let's try doing this using __numpy__, the Python numeric package: numpy code is immediately evaluated."
   ]
  },
  {
   "cell_type": "code",
   "execution_count": null,
   "metadata": {
    "collapsed": false,
    "deletable": true,
    "editable": true
   },
   "outputs": [],
   "source": [
    "a = np.array([5, 3, 8])\n",
    "b = np.array([3, -1, 2])\n",
    "c = np.add(a, b)\n",
    "print(c)"
   ]
  },
  {
   "cell_type": "markdown",
   "metadata": {
    "deletable": true,
    "editable": true
   },
   "source": [
    "The equivalent code in __TensorFlow__ consists of two steps:  \n",
    "<p>\n",
    "### Step 1: Build the graph"
   ]
  },
  {
   "cell_type": "code",
   "execution_count": null,
   "metadata": {
    "collapsed": false,
    "deletable": true,
    "editable": true
   },
   "outputs": [],
   "source": [
    "tf.reset_default_graph()\n",
    "\n",
    "a = tf.constant([5, 3, 8])\n",
    "b = tf.constant([3, -1, 2])\n",
    "c = tf.add(a, b)\n",
    "print(c)"
   ]
  },
  {
   "cell_type": "markdown",
   "metadata": {
    "deletable": true,
    "editable": true
   },
   "source": [
    "c is an Op (\"Add\") that returns a tensor of shape (3,) and holds int32. The shape is inferred from the computation graph.  \n",
    "Operations are added to default graph: `tf.reset_default_graph()` helps on mantaining a clean setting.\n",
    "\n",
    "Try the following in the cell above:\n",
    "\n",
    "- Change the 5 to 5.0, and similarly the other five numbers. What happens when you run this cell?  \n",
    "- Add an extra number to a, but leave b at the original (3,) shape. What happens when you run this cell?  \n",
    "- Change the code back to a version that works  \n",
    "\n",
    "<p>\n",
    "### Step 2: Run the graph"
   ]
  },
  {
   "cell_type": "code",
   "execution_count": null,
   "metadata": {
    "collapsed": false,
    "deletable": true,
    "editable": true
   },
   "outputs": [],
   "source": [
    "with tf.Session() as sess:\n",
    "  result = sess.run(c)\n",
    "  print(result)"
   ]
  },
  {
   "cell_type": "markdown",
   "metadata": {
    "deletable": true,
    "editable": true
   },
   "source": [
    "<h2> Using a feed_dict </h2>\n",
    "\n",
    "Same graph, but without hardcoding inputs at build stage.  \n",
    "Note the definition of the placeholders: besides the type, only the shape is specified (they are monodimensional),\n",
    "not the length for each dimension."
   ]
  },
  {
   "cell_type": "code",
   "execution_count": null,
   "metadata": {
    "collapsed": false,
    "deletable": true,
    "editable": true
   },
   "outputs": [],
   "source": [
    "tf.reset_default_graph()\n",
    "\n",
    "a = tf.placeholder(dtype=tf.int32, shape=(None,))\n",
    "b = tf.placeholder(dtype=tf.int32, shape=(None,))\n",
    "c = tf.add(a, b)\n",
    "\n",
    "a_in = np.array([3, 4, 5])\n",
    "b_in = np.array([-1, 2, 3])\n",
    "\n",
    "feed_dict = {a: a_in, b: b_in}\n",
    "with tf.Session() as sess:\n",
    "  result = sess.run(c,\n",
    "                    feed_dict=feed_dict)\n",
    "  print(result)"
   ]
  },
  {
   "cell_type": "markdown",
   "metadata": {
    "deletable": true,
    "editable": true
   },
   "source": [
    "## Heron's Formula in TensorFlow\n",
    "\n",
    "The area of triangle whose three side lengths are $(a, b, c)$ is $\\sqrt{s(s-a)(s-b)(s-c)}$ where $s=\\frac{a+b+c}{2}$ \n",
    "\n",
    "Define a function that evaluates the area of a triangle with Heron's Formula: \n",
    "- input will be a tensor holding sides length: [ a b c ]\n",
    "- output should be the evaluated area value\n",
    "\n",
    "Hints:\n",
    "- look up the available operations at https://www.tensorflow.org/api_docs/python/tf\n",
    "- almost all relevant math operations are overloaded: (e.g.: a\\*b can be used in place of `tf.mult(a,b)`)"
   ]
  },
  {
   "cell_type": "code",
   "execution_count": null,
   "metadata": {
    "collapsed": false,
    "deletable": true,
    "editable": true
   },
   "outputs": [],
   "source": [
    "def compute_area(sides):\n",
    "  # HANDS ON: insert your solution here\n",
    "  \n",
    "  return \"WHAT?\""
   ]
  },
  {
   "cell_type": "markdown",
   "metadata": {
    "deletable": true,
    "editable": true
   },
   "source": [
    "What if we want to evaluate the function on a number of triangles?\n",
    "\n",
    "Change the defined function so to satisfy:\n",
    "- input will be a tensor of unknown row number, 3 columns,\n",
    "- output should be the evaluated area value, for each triangle\n",
    "\n",
    "Hints:\n",
    "- `tf.mult` function (and it's overloaded version `*`) works element-by-element, same for `tf.subtract` function\n",
    "- to extract a column from a bidimensional tensor, use slicing `[:,idx]` as in numpy\n",
    "\n",
    "Check with the following code if your function is correctly accepting an input of variable size."
   ]
  },
  {
   "cell_type": "code",
   "execution_count": null,
   "metadata": {
    "collapsed": false,
    "deletable": true,
    "editable": true
   },
   "outputs": [],
   "source": [
    "tf.reset_default_graph()\n",
    "\n",
    "with tf.Session() as sess:\n",
    "  # pass in two triangles\n",
    "  area = compute_area(tf.constant([\n",
    "      [5.0, 3.0, 7.1],\n",
    "      [2.3, 4.1, 4.8]\n",
    "    ]))\n",
    "  result = sess.run(area)\n",
    "  print (result)"
   ]
  },
  {
   "cell_type": "markdown",
   "metadata": {
    "deletable": true,
    "editable": true
   },
   "source": [
    "Maybe we should test also for area value correctness...  \n",
    "\n",
    "- use [1.0, 1.0, 1.41] and [3.0, 4.0, 5.0] and ensure your output is like [0.499, 6.0].\n",
    "\n",
    "Why?"
   ]
  },
  {
   "cell_type": "markdown",
   "metadata": {
    "deletable": true,
    "editable": true
   },
   "source": [
    "## Placeholder and feed_dict\n",
    "\n",
    "More common is to define the input to a program as a __placeholder__ and then to feed in the inputs.  \n",
    "The difference between the code below and the code above is whether the \"area\" graph is coded up with the input values or whether the \"area\" graph is coded up with a placeholder through which inputs will be passed in at run-time."
   ]
  },
  {
   "cell_type": "code",
   "execution_count": null,
   "metadata": {
    "collapsed": false,
    "deletable": true,
    "editable": true
   },
   "outputs": [],
   "source": [
    "tf.reset_default_graph()\n",
    "\n",
    "sides = tf.placeholder(tf.float32, shape=(None, 3))  # shape: batchsize number of triangles, 3 sides\n",
    "area = compute_area(sides)\n",
    "\n",
    "feed_dict = {sides: [\n",
    "  [5.0, 3.0, 7.1],\n",
    "  [2.3, 4.1, 4.8]\n",
    "]}\n",
    "\n",
    "with tf.Session() as sess:  \n",
    "  result = sess.run(area, \n",
    "                    feed_dict = feed_dict)\n",
    "  print (result)"
   ]
  },
  {
   "cell_type": "markdown",
   "metadata": {
    "deletable": true,
    "editable": true
   },
   "source": [
    "##  TensorFlow for function minimization\n",
    "$ y=a x^2 + b x $\n",
    "\n",
    "Fill below cell with your solution code:\n",
    "- add code to define two scalar placeholders a and b\n",
    "- declare x as a variable (take a look at [tf.Variable](https://www.tensorflow.org/api_docs/python/tf/Variable))\n",
    "- define your objective function"
   ]
  },
  {
   "cell_type": "code",
   "execution_count": null,
   "metadata": {
    "collapsed": false,
    "deletable": true,
    "editable": true
   },
   "outputs": [],
   "source": [
    "tf.reset_default_graph()\n",
    "\n",
    "# declare placeholders\n",
    "# HANDS ON: insert your solution here\n",
    "\n",
    "\n",
    "# declare variable\n",
    "# HANDS ON: insert your solution here\n",
    "\n",
    "\n",
    "# define objective function\n",
    "# HANDS ON: insert your solution here\n",
    "\n",
    "\n",
    "# optimizer and optimization step\n",
    "optimizer = tf.train.AdamOptimizer(0.1)\n",
    "min_step = optimizer.minimize(y)\n",
    "\n",
    "a_in = np.array([1.0])\n",
    "b_in = np.array([-2.0])\n",
    "y_list = []\n",
    "\n",
    "with tf.Session() as sess:\n",
    "\n",
    "  # initialize variables\n",
    "  sess.run( tf.global_variables_initializer())\n",
    "  \n",
    "  for it in range(100):\n",
    "    _, y_p = sess.run([min_step, y],\n",
    "                     feed_dict = {a: a_in, b:b_in})\n",
    "    y_list.append(y_p)\n",
    "\n",
    "  x_out = sess.run(x)"
   ]
  },
  {
   "cell_type": "markdown",
   "metadata": {
    "deletable": true,
    "editable": true
   },
   "source": [
    "## Result collection\n",
    "Take a look at above code: for loop collects objective values touched during minimization, moreover minimum point is evaluated and stored in `x_out`:\n",
    "- plot objective function values, see [documentation](https://matplotlib.org/api/_as_gen/matplotlib.pyplot.plot.html)\n",
    "- compare `x_out` with true reference: $ \\frac{-b}{2a} $"
   ]
  },
  {
   "cell_type": "code",
   "execution_count": null,
   "metadata": {
    "collapsed": false,
    "deletable": true,
    "editable": true
   },
   "outputs": [],
   "source": [
    "import matplotlib.pyplot as plt\n",
    "# HANDS ON: insert your solution here\n"
   ]
  }
 ],
 "metadata": {
  "kernelspec": {
   "display_name": "Python 2",
   "language": "python",
   "name": "python2"
  },
  "language_info": {
   "codemirror_mode": {
    "name": "ipython",
    "version": 2
   },
   "file_extension": ".py",
   "mimetype": "text/x-python",
   "name": "python",
   "nbconvert_exporter": "python",
   "pygments_lexer": "ipython2",
   "version": "2.7.15"
  }
 },
 "nbformat": 4,
 "nbformat_minor": 2
}
