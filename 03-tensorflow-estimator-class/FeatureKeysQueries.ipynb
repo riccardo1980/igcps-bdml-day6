{
 "cells": [
  {
   "cell_type": "code",
   "execution_count": 8,
   "metadata": {
    "collapsed": false,
    "deletable": true,
    "editable": true
   },
   "outputs": [],
   "source": [
    "import google.datalab.bigquery as bq\n",
    "import pandas as pd\n",
    "import os"
   ]
  },
  {
   "cell_type": "code",
   "execution_count": 9,
   "metadata": {
    "collapsed": false,
    "deletable": true,
    "editable": true
   },
   "outputs": [],
   "source": [
    "def get_keys(colname):\n",
    "  BQ_DATASET = 'telemar_formazione_master_day6'\n",
    "\n",
    "  query=\"\"\"\n",
    "  SELECT DISTINCT\n",
    "    {}\n",
    "  FROM\n",
    "    `{}.tzcorr`\n",
    "  \"\"\"\n",
    "\n",
    "  df = bq.Query(query.format(colname,BQ_DATASET)).execute().result().to_dataframe()\n",
    "  return df[df.columns[0]].tolist()"
   ]
  },
  {
   "cell_type": "markdown",
   "metadata": {
    "deletable": true,
    "editable": true
   },
   "source": [
    "## Check whether we get the list of carriers"
   ]
  },
  {
   "cell_type": "code",
   "execution_count": 10,
   "metadata": {
    "collapsed": false,
    "deletable": true,
    "editable": true
   },
   "outputs": [
    {
     "name": "stdout",
     "output_type": "stream",
     "text": [
      "['WN', 'HA', 'OO', 'AS', 'B6', 'NK', 'F9', 'EV', 'DL', 'UA', 'AA', 'US', 'MQ', 'VX']\n"
     ]
    }
   ],
   "source": [
    "print(get_keys('unique_carrier'))"
   ]
  },
  {
   "cell_type": "code",
   "execution_count": 11,
   "metadata": {
    "collapsed": false,
    "deletable": true,
    "editable": true
   },
   "outputs": [],
   "source": [
    "from tensorflow.python.lib.io import file_io\n",
    "\n",
    "def open_file(uri, mode=\"r\" ,*args, **kwargs):\n",
    "    if uri.startswith(\"gs://\"):\n",
    "        return file_io.FileIO(uri, mode=mode)\n",
    "    else:\n",
    "        return open(uri, mode, *args, **kwargs)"
   ]
  },
  {
   "cell_type": "markdown",
   "metadata": {
    "deletable": true,
    "editable": true
   },
   "source": [
    "## Create keyfile for 'origin'\n",
    "Use above functions to save a text file containing unique 'origin' keys, one per line."
   ]
  },
  {
   "cell_type": "code",
   "execution_count": 12,
   "metadata": {
    "collapsed": false,
    "deletable": true,
    "editable": true
   },
   "outputs": [],
   "source": [
    "BUCKET='telemar-formazione-master-day6'\n",
    "DEST=os.path.join('gs://'+BUCKET,'flights/chapter8/keys')"
   ]
  },
  {
   "cell_type": "code",
   "execution_count": 13,
   "metadata": {
    "collapsed": false,
    "deletable": true,
    "editable": true
   },
   "outputs": [],
   "source": [
    "# HANDS ON: insert your solution here"
   ]
  },
  {
   "cell_type": "markdown",
   "metadata": {
    "deletable": true,
    "editable": true
   },
   "source": [
    "## Create keyfile for 'dest'\n",
    "Use above functions to save a text file containing unique 'dest' keys, one per line."
   ]
  },
  {
   "cell_type": "code",
   "execution_count": 14,
   "metadata": {
    "collapsed": true,
    "deletable": true,
    "editable": true
   },
   "outputs": [],
   "source": [
    "# HANDS ON: insert your solution here"
   ]
  }
 ],
 "metadata": {
  "kernelspec": {
   "display_name": "Python 2",
   "language": "python",
   "name": "python2"
  },
  "language_info": {
   "codemirror_mode": {
    "name": "ipython",
    "version": 2
   },
   "file_extension": ".py",
   "mimetype": "text/x-python",
   "name": "python",
   "nbconvert_exporter": "python",
   "pygments_lexer": "ipython2",
   "version": "2.7.15"
  }
 },
 "nbformat": 4,
 "nbformat_minor": 2
}
