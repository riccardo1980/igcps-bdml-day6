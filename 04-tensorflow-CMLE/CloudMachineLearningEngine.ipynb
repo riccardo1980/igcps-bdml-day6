{
 "cells": [
  {
   "cell_type": "markdown",
   "metadata": {
    "deletable": true,
    "editable": true
   },
   "source": [
    "# Cloud Machine Learning Engine"
   ]
  },
  {
   "cell_type": "code",
   "execution_count": null,
   "metadata": {
    "collapsed": true,
    "deletable": true,
    "editable": true
   },
   "outputs": [],
   "source": [
    "import os\n",
    "# use here the name of your own bucket\n",
    "BUCKET = 'telemar-formazione-master-day6'\n",
    "\n",
    "os.environ['BUCKET'] = BUCKET\n",
    "os.environ['REGION'] = 'europe-west1'"
   ]
  },
  {
   "cell_type": "markdown",
   "metadata": {
    "deletable": true,
    "editable": true
   },
   "source": [
    "## Authorize CMLE\n",
    "Cloud Machine Learning Engine needs to have access to train and test csv files."
   ]
  },
  {
   "cell_type": "code",
   "execution_count": null,
   "metadata": {
    "collapsed": false,
    "deletable": true,
    "editable": true
   },
   "outputs": [],
   "source": [
    "%%bash\n",
    "PROJECT_ID=$(gcloud config get-value core/project)\n",
    "\n",
    "AUTH_TOKEN=$(gcloud auth print-access-token)\n",
    "SVC_ACCOUNT=$(curl -X GET -H \"Content-Type: application/json\" \\\n",
    "    -H \"Authorization: Bearer $AUTH_TOKEN\" \\\n",
    "    https://ml.googleapis.com/v1/projects/${PROJECT_ID}:getConfig \\\n",
    "    | python -c \"import json; import sys; response = json.load(sys.stdin); \\\n",
    "    print response['serviceAccount']\")\n",
    "\n",
    "echo \"Authorizing the Cloud ML Service account $SVC_ACCOUNT to access files in $BUCKET\"\n",
    "gsutil -m defacl ch -u $SVC_ACCOUNT:R gs://$BUCKET\n",
    "gsutil -m acl ch -u $SVC_ACCOUNT:R -r gs://$BUCKET  # error message (if bucket is empty) can be ignored\n",
    "gsutil -m acl ch -u $SVC_ACCOUNT:W gs://$BUCKET"
   ]
  },
  {
   "cell_type": "markdown",
   "metadata": {
    "deletable": true,
    "editable": true
   },
   "source": [
    "## Run a full training session on datalab\n",
    "Code below launches a training job on Google Cloud CMLE. \n",
    "Note that:\n",
    "- python package is contained in sub-folder flights: you can browse source cod using datalab;\n",
    "- JOBNAME environmental variable is created starting from current date and time: check and find relevant lines of code;\n",
    "- OUTPUT_DIR points to a specific folder in your bucket: it will contain training informations. \n"
   ]
  },
  {
   "cell_type": "code",
   "execution_count": null,
   "metadata": {
    "collapsed": false,
    "deletable": true,
    "editable": true
   },
   "outputs": [],
   "source": [
    "%%bash\n",
    "\n",
    "OUTPUT_DIR=gs://${BUCKET}/flights/chapter9/output\n",
    "DATA_DIR=gs://${BUCKET}/flights/chapter8/output\n",
    "ORIGIN_FILE=gs://${BUCKET}/flights/chapter8/keys/origin.txt\n",
    "DEST_FILE=gs://${BUCKET}/flights/chapter8/keys/dest.txt\n",
    "JOBNAME=flights_$(date -u +%y%m%d_%H%M%S)\n",
    "\n",
    "PATTERN=\"Flights*\"\n",
    "\n",
    "echo \"Launching training job ... trained model will be in $OUTPUT_DIR\"\n",
    "\n",
    "gsutil -m rm -rf $OUTPUT_DIR\n",
    "gcloud ml-engine jobs submit training $JOBNAME \\\n",
    "  --region=$REGION \\\n",
    "  --module-name=trainer.task \\\n",
    "  --package-path=$(pwd)/flights/trainer \\\n",
    "  --job-dir=$OUTPUT_DIR \\\n",
    "  --staging-bucket=gs://$BUCKET \\\n",
    "  --runtime-version=\"1.6\" \\\n",
    "  --scale-tier=STANDARD_1 \\\n",
    "  -- \\\n",
    "   --output_dir=$OUTPUT_DIR \\\n",
    "   --traindata $DATA_DIR/train$PATTERN \\\n",
    "   --evaldata $DATA_DIR/test$PATTERN   \\\n",
    "   --origin_file $ORIGIN_FILE          \\\n",
    "   --dest_file $DEST_FILE              \\\n",
    "   --num_training_epochs=5"
   ]
  },
  {
   "cell_type": "markdown",
   "metadata": {
    "deletable": true,
    "editable": true
   },
   "source": [
    "## Control CMLE log status\n",
    "Browse to [https://console.cloud.google.com/mlengine](https://console.cloud.google.com/mlengine) and select your job"
   ]
  },
  {
   "cell_type": "markdown",
   "metadata": {
    "deletable": true,
    "editable": true
   },
   "source": [
    "## Launch TensorBoard: visualize graph and metrics\n",
    "We can keep track of the behavior of accuracy (on test set) and ()"
   ]
  },
  {
   "cell_type": "code",
   "execution_count": null,
   "metadata": {
    "collapsed": false,
    "deletable": true,
    "editable": true
   },
   "outputs": [],
   "source": [
    "from google.datalab.ml import TensorBoard\n",
    "TensorBoard().start('gs://'+BUCKET+'/flights/chapter9/output')\n",
    "TensorBoard().list()"
   ]
  },
  {
   "cell_type": "code",
   "execution_count": null,
   "metadata": {
    "collapsed": false,
    "deletable": true,
    "editable": true
   },
   "outputs": [],
   "source": [
    "# to stop TensorBoard\n",
    "for pid in TensorBoard.list()['pid']:\n",
    "    TensorBoard().stop(pid)\n",
    "    print 'Stopped TensorBoard with pid {}'.format(pid)"
   ]
  }
 ],
 "metadata": {
  "kernelspec": {
   "display_name": "Python 2",
   "language": "python",
   "name": "python2"
  },
  "language_info": {
   "codemirror_mode": {
    "name": "ipython",
    "version": 2
   },
   "file_extension": ".py",
   "mimetype": "text/x-python",
   "name": "python",
   "nbconvert_exporter": "python",
   "pygments_lexer": "ipython2",
   "version": "2.7.15"
  }
 },
 "nbformat": 4,
 "nbformat_minor": 2
}
